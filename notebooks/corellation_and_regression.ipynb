{
  "nbformat": 4,
  "nbformat_minor": 0,
  "metadata": {
    "colab": {
      "provenance": []
    },
    "kernelspec": {
      "name": "python3",
      "display_name": "Python 3"
    }
  },
  "cells": [
    {
      "cell_type": "markdown",
      "metadata": {
        "id": "JBzxKCBwybxz"
      },
      "source": [
        "#Задача регрессии"
      ]
    },
    {
      "cell_type": "markdown",
      "metadata": {
        "id": "UqREa5YdQYLS"
      },
      "source": [
        "Вы будете анализировать один из известных в области анализа данных датасетов, описывающих качество белого и красного вина с помощью их физико-химических свойств. Выберите один из 2 датасетов (репозиторий UCI) https://archive.ics.uci.edu/dataset/186/wine+quality. Ознакомьтесь с их описанием https://archive.ics.uci.edu/ml/machine-learning-databases/wine-quality/winequality.names, осуществите при необходимости перевод на русский язык.\n"
      ]
    },
    {
      "cell_type": "markdown",
      "metadata": {
        "id": "v9uy3aovQ0qU"
      },
      "source": [
        "Импорт необходимых модулей"
      ]
    },
    {
      "cell_type": "code",
      "metadata": {
        "id": "DznQV8A5OAMP"
      },
      "source": [
        "import pandas as pd\n",
        "import numpy as np\n",
        "import matplotlib.pyplot as plt\n",
        "import seaborn as sns\n",
        "\n",
        "\n",
        "from sklearn.linear_model import LinearRegression as lm"
      ],
      "execution_count": null,
      "outputs": []
    },
    {
      "cell_type": "markdown",
      "metadata": {
        "id": "MA8ZynBryxUb"
      },
      "source": [
        "##Разведочный анализ датасета и визуализация данных"
      ]
    },
    {
      "cell_type": "markdown",
      "metadata": {
        "id": "cAg2VtNMQfbc"
      },
      "source": [
        "Считывание данных в датафрейм, информация о нем и просмотр его верхней части"
      ]
    },
    {
      "cell_type": "code",
      "metadata": {
        "id": "eKvM3bIXMRG3"
      },
      "source": [
        "#  Ваш код здесь"
      ],
      "execution_count": 1,
      "outputs": []
    },
    {
      "cell_type": "markdown",
      "metadata": {
        "id": "J7HN9_IjR2qb"
      },
      "source": [
        "Вывод описательной статистики по датасету. Какие заключения можно сделать о данных по полученным результатам?"
      ]
    },
    {
      "cell_type": "code",
      "metadata": {
        "id": "05zTCpjOR-Vq"
      },
      "source": [
        "#  Ваш код здесь"
      ],
      "execution_count": 2,
      "outputs": []
    },
    {
      "cell_type": "markdown",
      "metadata": {
        "id": "HWIhUnQGXayd"
      },
      "source": [
        "Парные диаграммы. Постройте диаграммы рассеяния. Можно ли заметить какие-то тенденции из анализа парных диаграмм?"
      ]
    },
    {
      "cell_type": "code",
      "metadata": {
        "id": "XcRGRJ11XbcA"
      },
      "source": [
        "#  Ваш код здесь"
      ],
      "execution_count": 3,
      "outputs": []
    },
    {
      "cell_type": "markdown",
      "metadata": {
        "id": "O_R5zOfcSRQl"
      },
      "source": [
        "Корреляционная матрица. Постройте корреляционную матрицу и диаграмму корреляции. Для каких переменных можно заподозрить существование взаимосвязи?"
      ]
    },
    {
      "cell_type": "code",
      "metadata": {
        "id": "2YZynptSSQ4s"
      },
      "source": [
        "#  Ваш код здесь\n"
      ],
      "execution_count": 4,
      "outputs": []
    },
    {
      "cell_type": "markdown",
      "metadata": {
        "id": "6v5AMLBbWjnt"
      },
      "source": [
        "Диаграмма корреляции"
      ]
    },
    {
      "cell_type": "code",
      "metadata": {
        "id": "gxC_CNkyWkDk"
      },
      "source": [
        "#  Ваш код здесь"
      ],
      "execution_count": 5,
      "outputs": []
    },
    {
      "cell_type": "markdown",
      "metadata": {
        "id": "aLJNMEKuzSs2"
      },
      "source": [
        "Отдельно постройте диаграмму рассеяния для переменных с высокими значениями модуля коэффициента корреляции. Что, по-Вашему, означает такое число и такая диаграмма?"
      ]
    },
    {
      "cell_type": "code",
      "metadata": {
        "id": "ROZoeFHyzV6j"
      },
      "source": [
        "#  Ваш код здесь"
      ],
      "execution_count": 6,
      "outputs": []
    },
    {
      "cell_type": "markdown",
      "metadata": {
        "id": "6rQ2i3-p0MA7"
      },
      "source": [
        "##Построение модели линейной регрессии"
      ]
    },
    {
      "cell_type": "markdown",
      "metadata": {
        "id": "RrSaAbQt0eXD"
      },
      "source": [
        "$y = a_0 + a_1x$ - уравнение прямой"
      ]
    },
    {
      "cell_type": "markdown",
      "metadata": {
        "id": "De1Wu1Q7ai5o"
      },
      "source": [
        "Выделение зависимой (целевой) переменной y"
      ]
    },
    {
      "cell_type": "code",
      "metadata": {
        "id": "97Aq6Wqhac9X"
      },
      "source": [
        "#  Ваш код здесь"
      ],
      "execution_count": null,
      "outputs": []
    },
    {
      "cell_type": "markdown",
      "metadata": {
        "id": "rwK-5k4ma_yf"
      },
      "source": [
        "Выделение независимой переменной-предиктора X"
      ]
    },
    {
      "cell_type": "code",
      "metadata": {
        "id": "PfhY6e-8a6mX"
      },
      "source": [
        "#  Ваш код здесь"
      ],
      "execution_count": null,
      "outputs": []
    },
    {
      "cell_type": "markdown",
      "metadata": {
        "id": "lpuN7c7RbRFV"
      },
      "source": [
        "Разбейте датасет на обучающую и тестовую выборки. Какую пропорцию разбиения разумней использовать? Почему?"
      ]
    },
    {
      "cell_type": "code",
      "metadata": {
        "id": "vg15COWFbRk9"
      },
      "source": [
        "#  Ваш код здесь"
      ],
      "execution_count": null,
      "outputs": []
    },
    {
      "cell_type": "markdown",
      "metadata": {
        "id": "yF-6oB1ibd7l"
      },
      "source": [
        "Постройте регрессионную (линейную) модель по обучающей выборке и выведите коэффициенты уравнения регрессии:"
      ]
    },
    {
      "cell_type": "code",
      "metadata": {
        "id": "u1HieHLGbjJg"
      },
      "source": [
        "#  Ваш код здесь"
      ],
      "execution_count": null,
      "outputs": []
    },
    {
      "cell_type": "markdown",
      "metadata": {
        "id": "E7fV_b-_dW-H"
      },
      "source": [
        "Постройте диаграмму рассеяния данных обучающей выборки и проведите через корреляционное облако прямую с использованием найденных коэффициентов уравнения линейной регрессии"
      ]
    },
    {
      "cell_type": "code",
      "metadata": {
        "id": "sxiMZmL1dWgy"
      },
      "source": [
        "#  Ваш код здесь"
      ],
      "execution_count": null,
      "outputs": []
    },
    {
      "cell_type": "markdown",
      "metadata": {
        "id": "igMzgXAChuqJ"
      },
      "source": [
        "Выполните на тестовой выборке прогнозирование с использованием построенной модели и сравните результаты работы модели с реальными данными"
      ]
    },
    {
      "cell_type": "code",
      "metadata": {
        "id": "Cfx5Y-vaelam"
      },
      "source": [
        "#  Ваш код здесь"
      ],
      "execution_count": null,
      "outputs": []
    },
    {
      "cell_type": "markdown",
      "metadata": {
        "id": "ywfhDWsEiZA3"
      },
      "source": [
        "Оцените качество предсказания с использованием метрики RMSE и диаграммы остатков"
      ]
    },
    {
      "cell_type": "code",
      "metadata": {
        "id": "VeYg7Qt7i1HO"
      },
      "source": [
        "#  Ваш код здесь\n"
      ],
      "execution_count": null,
      "outputs": []
    },
    {
      "cell_type": "markdown",
      "metadata": {
        "id": "jGOrPD2Y12jr"
      },
      "source": [
        "##Модель линейной регрессии с несколькими предикторами"
      ]
    },
    {
      "cell_type": "markdown",
      "metadata": {
        "id": "kogll4o7kok1"
      },
      "source": [
        "Постройте регрессионную модель с несколькими предикторами $y = a_0 + a_1x_1 + a_2x_2 + a_3x_3 + a_4x_4 + ...$ - уравнение прямой в многомерном пространстве.\n",
        "\n",
        "Выделение зависимой (целевой) переменной y\n",
        "\n"
      ]
    },
    {
      "cell_type": "code",
      "metadata": {
        "id": "2w9HuVi9lDoY"
      },
      "source": [
        "#  Ваш код здесь"
      ],
      "execution_count": null,
      "outputs": []
    },
    {
      "cell_type": "markdown",
      "metadata": {
        "id": "iovKbomIlJXU"
      },
      "source": [
        "Выделение независимых переменных-предикторов X"
      ]
    },
    {
      "cell_type": "code",
      "metadata": {
        "id": "kZ9odni7lTeI"
      },
      "source": [
        "#  Ваш код здесь"
      ],
      "execution_count": null,
      "outputs": []
    },
    {
      "cell_type": "markdown",
      "metadata": {
        "id": "lF2U0i9ElpqQ"
      },
      "source": [
        "Разбейте датасет на обучающую и тестовую выборки. Какую пропорцию разбиения разумней использовать? Почему?\n",
        "\n"
      ]
    },
    {
      "cell_type": "code",
      "metadata": {
        "id": "TuDFegq9l5av"
      },
      "source": [
        "#  Ваш код здесь"
      ],
      "execution_count": null,
      "outputs": []
    },
    {
      "cell_type": "markdown",
      "metadata": {
        "id": "DB1hm1xql4t9"
      },
      "source": [
        "Постройте регрессионную (линейную) модель по обучающей выборке и выведите коэффициенты уравнения регрессии. Попробуйте интерпретировать значения полученных коэффициентов"
      ]
    },
    {
      "cell_type": "code",
      "metadata": {
        "id": "2g3CdgQwmBER"
      },
      "source": [
        "#  Ваш код здесь"
      ],
      "execution_count": null,
      "outputs": []
    },
    {
      "cell_type": "markdown",
      "metadata": {
        "id": "S_qu6erBmpPG"
      },
      "source": [
        "Выполните на тестовой выборке прогнозирование с использованием построенной модели и сравните результаты работы модели с реальными данными"
      ]
    },
    {
      "cell_type": "code",
      "metadata": {
        "id": "JgF3CGcsn1Fs"
      },
      "source": [
        "#  Ваш код здесь"
      ],
      "execution_count": null,
      "outputs": []
    },
    {
      "cell_type": "markdown",
      "metadata": {
        "id": "egxwkxdboEmQ"
      },
      "source": [
        "Оцените качество предсказания с использованием метрики RMSE"
      ]
    },
    {
      "cell_type": "code",
      "metadata": {
        "id": "AtZmkxJboFft"
      },
      "source": [
        "#  Ваш код здесь"
      ],
      "execution_count": null,
      "outputs": []
    },
    {
      "cell_type": "markdown",
      "metadata": {
        "id": "ovw0lXprN1AV"
      },
      "source": [
        "## <center> Регрессионные модели, основанные на деревьях решений"
      ]
    },
    {
      "cell_type": "markdown",
      "metadata": {
        "id": "1LGzt45nPExx"
      },
      "source": [
        "### 1. Модель деревьев решений"
      ]
    },
    {
      "cell_type": "markdown",
      "metadata": {
        "id": "oiOTBjVlOKPE"
      },
      "source": [
        "Постройте регрессионную модель деревьев решений (с использованием DecisionTreeRegressor из sklearn.tree) и выполните предсказание с ее помощью"
      ]
    },
    {
      "cell_type": "code",
      "metadata": {
        "id": "VKtpuQ7qOnWE"
      },
      "source": [
        "#  Ваш код здесь"
      ],
      "execution_count": null,
      "outputs": []
    },
    {
      "cell_type": "markdown",
      "metadata": {
        "id": "P5AzYgjkOviI"
      },
      "source": [
        "Выполните на тестовой выборке прогнозирование с использованием построенной модели и сравните результаты работы модели с реальными данными"
      ]
    },
    {
      "cell_type": "code",
      "metadata": {
        "id": "4EyJtG1_OviK"
      },
      "source": [
        "#  Ваш код здесь"
      ],
      "execution_count": null,
      "outputs": []
    },
    {
      "cell_type": "markdown",
      "metadata": {
        "id": "yZqPCCfUOviS"
      },
      "source": [
        "Оцените качество предсказания с использованием метрики RMSE"
      ]
    },
    {
      "cell_type": "code",
      "metadata": {
        "id": "IieCZg33OviV"
      },
      "source": [
        "#  Ваш код здесь"
      ],
      "execution_count": null,
      "outputs": []
    },
    {
      "cell_type": "markdown",
      "metadata": {
        "id": "ua0O3WRYO2LC"
      },
      "source": []
    },
    {
      "cell_type": "markdown",
      "metadata": {
        "id": "hFVw2KgHPUH8"
      },
      "source": [
        "### 2. Модель RandomForest"
      ]
    },
    {
      "cell_type": "markdown",
      "metadata": {
        "id": "Iq9kGXf9PUH9"
      },
      "source": [
        "Постройте регрессионную модель на основе RandomForest (с использованием sklearn.ensemble и RandomForestRegressor) и выполните предсказание с ее помощью"
      ]
    },
    {
      "cell_type": "code",
      "metadata": {
        "id": "HmPpFMs0PUH-"
      },
      "source": [
        "#  Ваш код здесь"
      ],
      "execution_count": null,
      "outputs": []
    },
    {
      "cell_type": "markdown",
      "metadata": {
        "id": "xl3j-PLHPUIF"
      },
      "source": [
        "Выполните на тестовой выборке прогнозирование с использованием построенной модели и сравните результаты работы модели с реальными данными"
      ]
    },
    {
      "cell_type": "code",
      "metadata": {
        "id": "S2NunprnPUIG"
      },
      "source": [
        "#  Ваш код здесь"
      ],
      "execution_count": null,
      "outputs": []
    },
    {
      "cell_type": "markdown",
      "metadata": {
        "id": "7BpNjDKKPUIM"
      },
      "source": [
        "Оцените качество предсказания с использованием метрики RMSE"
      ]
    },
    {
      "cell_type": "code",
      "metadata": {
        "id": "J3B8zbp5PUIN"
      },
      "source": [
        "#  Ваш код здесь"
      ],
      "execution_count": null,
      "outputs": []
    },
    {
      "cell_type": "markdown",
      "metadata": {
        "id": "8wDPXOQWP6Ee"
      },
      "source": [
        "### 3. Модели на базе алгоритмов бустинга"
      ]
    },
    {
      "cell_type": "markdown",
      "metadata": {
        "id": "Xxciz_noP6Ef"
      },
      "source": [
        "Постройте регрессионные модели на основе XGBoost и CatBoost. Выполните предсказание с их помощью"
      ]
    },
    {
      "cell_type": "code",
      "metadata": {
        "id": "TtLS4Ti6P6Ef"
      },
      "source": [
        "#  Ваш код здесь"
      ],
      "execution_count": null,
      "outputs": []
    },
    {
      "cell_type": "markdown",
      "metadata": {
        "id": "Lkr-cJ39P6Eh"
      },
      "source": [
        "Выполните на тестовой выборке прогнозирование с использованием построенной модели и сравните результаты работы модели с реальными данными"
      ]
    },
    {
      "cell_type": "code",
      "metadata": {
        "id": "Y3klODWTP6Ei"
      },
      "source": [
        "#  Ваш код здесь"
      ],
      "execution_count": null,
      "outputs": []
    },
    {
      "cell_type": "markdown",
      "metadata": {
        "id": "4eCB3fxaP6Ek"
      },
      "source": [
        "Оцените качество предсказания с использованием метрики RMSE"
      ]
    },
    {
      "cell_type": "code",
      "metadata": {
        "id": "5sH_1OmdP6Em"
      },
      "source": [
        "#  Ваш код здесь"
      ],
      "execution_count": null,
      "outputs": []
    },
    {
      "cell_type": "markdown",
      "source": [
        "## Использование метода kNN"
      ],
      "metadata": {
        "id": "R-v57OFX2cf7"
      }
    },
    {
      "cell_type": "markdown",
      "source": [
        "Постройте регрессионную модель на основе метода k ближайших соседей. Выполните предсказание с его помощью"
      ],
      "metadata": {
        "id": "PHi2mrz32rTk"
      }
    },
    {
      "cell_type": "code",
      "source": [
        "#  Ваш код здесь"
      ],
      "metadata": {
        "id": "CVtnS3ij3Q8s"
      },
      "execution_count": null,
      "outputs": []
    },
    {
      "cell_type": "markdown",
      "metadata": {
        "id": "_BsZn0eE3Rsp"
      },
      "source": [
        "Выполните на тестовой выборке прогнозирование с использованием построенной модели и сравните результаты работы модели с реальными данными"
      ]
    },
    {
      "cell_type": "code",
      "metadata": {
        "id": "gFhmdfV23Rs1"
      },
      "source": [
        "#  Ваш код здесь"
      ],
      "execution_count": null,
      "outputs": []
    },
    {
      "cell_type": "markdown",
      "metadata": {
        "id": "HIoW_Kab3Rs1"
      },
      "source": [
        "Оцените качество предсказания с использованием метрики RMSE"
      ]
    },
    {
      "cell_type": "code",
      "metadata": {
        "id": "07fiYVfX3Rs1"
      },
      "source": [
        "#  Ваш код здесь"
      ],
      "execution_count": null,
      "outputs": []
    },
    {
      "cell_type": "markdown",
      "source": [
        "## Использование метода опорных векторов (SVM)"
      ],
      "metadata": {
        "id": "biZsKalVJdRm"
      }
    },
    {
      "cell_type": "markdown",
      "source": [
        "Постройте регрессионную модель на основе метода SVM. Выполните предсказание с его помощью"
      ],
      "metadata": {
        "id": "5j6TwH1nJdRm"
      }
    },
    {
      "cell_type": "code",
      "source": [
        "#  Ваш код здесь"
      ],
      "metadata": {
        "id": "1Fwsq7O-JdRm"
      },
      "execution_count": null,
      "outputs": []
    },
    {
      "cell_type": "markdown",
      "metadata": {
        "id": "RRkGrN-OJdRm"
      },
      "source": [
        "Выполните на тестовой выборке прогнозирование с использованием построенной модели и сравните результаты работы модели с реальными данными"
      ]
    },
    {
      "cell_type": "code",
      "metadata": {
        "id": "Nad51V7ZJdRn"
      },
      "source": [
        "#  Ваш код здесь"
      ],
      "execution_count": null,
      "outputs": []
    },
    {
      "cell_type": "markdown",
      "metadata": {
        "id": "DcZFMLceJdRn"
      },
      "source": [
        "Оцените качество предсказания с использованием метрики RMSE"
      ]
    },
    {
      "cell_type": "code",
      "metadata": {
        "id": "d7dU6N66JdRn"
      },
      "source": [
        "#  Ваш код здесь"
      ],
      "execution_count": null,
      "outputs": []
    }
  ]
}